{
 "cells": [
  {
   "cell_type": "code",
   "execution_count": null,
   "metadata": {
    "colab": {},
    "colab_type": "code",
    "id": "x-mcgy1eSvy5"
   },
   "outputs": [],
   "source": [
    "from sklearn.model_selection import train_test_split\n",
    "from sklearn.metrics import *\n",
    "from sklearn.ensemble import RandomForestClassifier\n",
    "from sklearn.tree import DecisionTreeClassifier\n",
    "import pandas as pd"
   ]
  },
  {
   "cell_type": "code",
   "execution_count": null,
   "metadata": {
    "colab": {},
    "colab_type": "code",
    "id": "yNNGEQlST0W9"
   },
   "outputs": [],
   "source": [
    "from google.colab import drive\n",
    "drive.mount('/content/drive')"
   ]
  },
  {
   "cell_type": "code",
   "execution_count": null,
   "metadata": {
    "colab": {},
    "colab_type": "code",
    "id": "Q-pZwOzAT068"
   },
   "outputs": [],
   "source": [
    "# データのロード\n",
    "iris_df = pd.read_csv(filepath_or_buffer=\"/content/drive/My Drive/ensyu3/iris.csv\")\n",
    "display()"
   ]
  },
  {
   "cell_type": "code",
   "execution_count": null,
   "metadata": {
    "colab": {},
    "colab_type": "code",
    "id": "Hq3V2htHURL9"
   },
   "outputs": [],
   "source": [
    "#目的変数の設定\n",
    "obj_var = \n",
    "\n",
    "#説明変数と目的変数に分ける\n",
    " = iris_df.drop(obj_var,axis=1) #説明変数（目的変数以外)  \n",
    " = iris_df[obj_var]             #目的変数\n",
    "\n",
    "#データを分割\n",
    "train_X, test_X, train_y, test_y = \\\n",
    "  train_test_split( , , test_size=0.3, stratify = iris_df_y,random_state=0)"
   ]
  },
  {
   "cell_type": "code",
   "execution_count": null,
   "metadata": {
    "colab": {},
    "colab_type": "code",
    "id": "NtZ76MU7WMWK"
   },
   "outputs": [],
   "source": [
    "#決定木の生成\n",
    "dtc = DecisionTreeClassifier()\n",
    "dtc.fit( , )"
   ]
  },
  {
   "cell_type": "code",
   "execution_count": null,
   "metadata": {
    "colab": {},
    "colab_type": "code",
    "id": "1rtOpxpRW7CO"
   },
   "outputs": [],
   "source": [
    "#テストデータで正解率確認\n",
    "pred_y = dtc.predict(test_X)\n",
    "accuracy_score( , )"
   ]
  },
  {
   "cell_type": "code",
   "execution_count": null,
   "metadata": {
    "colab": {},
    "colab_type": "code",
    "id": "JTX7Ow2164Rr"
   },
   "outputs": [],
   "source": [
    "#確認\n",
    "result = pd.DataFrame(test_y)\n",
    "result[\"pred\"] = pred_y\n",
    "\n",
    "display(result)"
   ]
  },
  {
   "cell_type": "code",
   "execution_count": null,
   "metadata": {
    "colab": {},
    "colab_type": "code",
    "id": "FKF1-EqRXn47"
   },
   "outputs": [],
   "source": [
    "#決定木の表示\n",
    "from sklearn import tree\n",
    "import pydotplus\n",
    "from IPython.display import Image\n",
    "from graphviz import Digraph\n",
    "\n",
    "dot_data = tree.export_graphviz(\n",
    "    dtc,\n",
    "    out_file=None,\n",
    "    feature_names=iris_df_X.columns.values,\n",
    "    filled=True,\n",
    "    proportion=True)\n",
    "graph = pydotplus.graph_from_dot_data(dot_data)\n",
    "Image(graph.create_png())"
   ]
  },
  {
   "cell_type": "code",
   "execution_count": null,
   "metadata": {
    "colab": {},
    "colab_type": "code",
    "id": "pcz2OjboYq0P"
   },
   "outputs": [],
   "source": [
    "# ランダムフォレストモデルを生成\n",
    "# n_estimators 決定木をいくつ生成するか（デフォルトは10）\n",
    "clf = RandomForestClassifier(random_state=0, )\n",
    "clf = clf.fit(　, )\n",
    "\n",
    "# 結果検証　（テストデータで検証）\n",
    "rdf_y_pred = clf.predict(　)\n",
    "accuracy_score(test_y,rdf_y_pred)"
   ]
  },
  {
   "cell_type": "code",
   "execution_count": null,
   "metadata": {
    "colab": {},
    "colab_type": "code",
    "id": "s2RoETcLCRmQ"
   },
   "outputs": [],
   "source": [
    "result = pd.DataFrame(test_y)\n",
    "result[\"pred\"] = rdf_y_pred\n",
    "\n",
    "display(result)"
   ]
  },
  {
   "cell_type": "code",
   "execution_count": null,
   "metadata": {
    "colab": {},
    "colab_type": "code",
    "id": "5EgYfQE1y14V"
   },
   "outputs": [],
   "source": [
    "import matplotlib.pyplot as plt\n",
    "\n",
    "#特徴量の重要度を表示\n",
    "clf = clf.fit(train_X, train_y)\n",
    "\n",
    "default_imp=pd.DataFrame(data={'importance':clf.feature_importances_,'features':train_X.columns})\n",
    "default_imp=default_imp.set_index('features')\n",
    "default_imp=default_imp.sort_values('importance',ascending=False)\n",
    "default_imp=default_imp[:30]\n",
    "default_imp.plot(kind='bar',figsize=(15,5))\n",
    "plt.show()"
   ]
  },
  {
   "cell_type": "code",
   "execution_count": null,
   "metadata": {
    "colab": {},
    "colab_type": "code",
    "id": "vlWxkCwrvnNo"
   },
   "outputs": [],
   "source": [
    "#borutaのインストール\n",
    "pip install boruta"
   ]
  },
  {
   "cell_type": "code",
   "execution_count": null,
   "metadata": {
    "colab": {},
    "colab_type": "code",
    "id": "5fp1lyFSCpwY"
   },
   "outputs": [],
   "source": [
    "import numpy as np\n",
    "#１００列分のダミーデータを追加\n",
    "df_lie = pd.DataFrame(np.random.randint(0,10,size=(150, 100)), columns=['dummy']*100) \n",
    "iris_df_L = pd.concat([iris_df, df_lie], axis=1)\n",
    "display(iris_df_L.head())"
   ]
  },
  {
   "cell_type": "code",
   "execution_count": null,
   "metadata": {
    "colab": {},
    "colab_type": "code",
    "id": "NyxjP23FuRK2"
   },
   "outputs": [],
   "source": [
    "#borutaで、特徴量の抽出\n",
    "from boruta import BorutaPy\n",
    "\n",
    "rf = RandomForestClassifier(random_state=0, n_estimators=10)\n",
    "\n",
    "iris_dfL_X = iris_df_L.drop(obj_var,axis=1) #説明変数（目的変数以外)\n",
    "iris_dfL_y = iris_df_L[obj_var]             #目的変数\n",
    "\n",
    "(trainL_X, testL_X, trainL_y, testL_y) = train_test_split(\n",
    "    iris_dfL_X, iris_dfL_y, test_size=0.3, random_state=0)\n",
    "\n",
    "feat_selector = BorutaPy(rf, \n",
    "                         n_estimators='auto',  # 特徴量の数に比例して、木の本数を増やす\n",
    "                         verbose=2, # 0: no output,1: displays iteration number,2: which features have been selected already\n",
    "                         alpha=0.05, # 有意水準\n",
    "                         max_iter=10, # 試行回数\n",
    "                         random_state=1\n",
    "                        )\n",
    "\n",
    "# 実行\n",
    "feat_selector.fit(trainL_X.values, trainL_y.values)"
   ]
  },
  {
   "cell_type": "code",
   "execution_count": null,
   "metadata": {
    "colab": {},
    "colab_type": "code",
    "id": "603csu6WvjS1"
   },
   "outputs": [],
   "source": [
    "print(feat_selector.support_)"
   ]
  },
  {
   "cell_type": "code",
   "execution_count": null,
   "metadata": {
    "colab": {},
    "colab_type": "code",
    "id": "VZH0HJztxsv_"
   },
   "outputs": [],
   "source": [
    "train_X_selected = trainL_X.iloc[:,feat_selector.support_]\n",
    "test_X_selected = testL_X.iloc[:,feat_selector.support_]\n",
    "display(train_X_selected.head())\n",
    "display(test_X_selected.head())"
   ]
  }
 ],
 "metadata": {
  "colab": {
   "authorship_tag": "ABX9TyOz36GiOjB/z6tAcLrAJJVN",
   "collapsed_sections": [],
   "name": "random_forest.ipynb",
   "provenance": []
  },
  "kernelspec": {
   "display_name": "Python 3",
   "language": "python",
   "name": "python3"
  },
  "language_info": {
   "codemirror_mode": {
    "name": "ipython",
    "version": 3
   },
   "file_extension": ".py",
   "mimetype": "text/x-python",
   "name": "python",
   "nbconvert_exporter": "python",
   "pygments_lexer": "ipython3",
   "version": "3.7.6"
  }
 },
 "nbformat": 4,
 "nbformat_minor": 4
}
