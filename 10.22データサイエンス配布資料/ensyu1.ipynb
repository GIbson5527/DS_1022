{
 "cells": [
  {
   "cell_type": "markdown",
   "metadata": {
    "id": "EXcFw-P69raD"
   },
   "source": [
    "## 前準備"
   ]
  },
  {
   "cell_type": "code",
   "execution_count": 8,
   "metadata": {
    "executionInfo": {
     "elapsed": 1243,
     "status": "ok",
     "timestamp": 1603295175228,
     "user": {
      "displayName": "羽田野拓",
      "photoUrl": "",
      "userId": "09740761542960778392"
     },
     "user_tz": -540
    },
    "id": "50bqvIn3p6BY"
   },
   "outputs": [],
   "source": [
    "import statistics as st"
   ]
  },
  {
   "cell_type": "code",
   "execution_count": 3,
   "metadata": {
    "executionInfo": {
     "elapsed": 1182,
     "status": "ok",
     "timestamp": 1603294918988,
     "user": {
      "displayName": "羽田野拓",
      "photoUrl": "",
      "userId": "09740761542960778392"
     },
     "user_tz": -540
    },
    "id": "a_NBwgpFqIzo"
   },
   "outputs": [],
   "source": [
    "data = [8, 17, 0, 11, 6, 21, 16, 6, 17, 11, 7, 9, 6, 13, 12, 16, 3, 14, 13, 12]"
   ]
  },
  {
   "cell_type": "markdown",
   "metadata": {
    "id": "jgtzs0Ph2GPG"
   },
   "source": [
    "## 平均値を求める"
   ]
  },
  {
   "cell_type": "code",
   "execution_count": null,
   "metadata": {
    "id": "4XOA4Npg0vRr"
   },
   "outputs": [],
   "source": [
    "print(\"平均:\") #平均を求める処理を追加"
   ]
  },
  {
   "cell_type": "markdown",
   "metadata": {
    "id": "3QPmyshK2REh"
   },
   "source": [
    "## 中央値を求める"
   ]
  },
  {
   "cell_type": "code",
   "execution_count": null,
   "metadata": {
    "id": "aAP9q8l31K1R"
   },
   "outputs": [],
   "source": [
    "print(\"中央値:\") #中央値を求める処理を追加"
   ]
  },
  {
   "cell_type": "markdown",
   "metadata": {
    "id": "K4IkL-cE3M6l"
   },
   "source": [
    "## 最頻値を求める"
   ]
  },
  {
   "cell_type": "code",
   "execution_count": 12,
   "metadata": {
    "colab": {
     "base_uri": "https://localhost:8080/",
     "height": 35
    },
    "executionInfo": {
     "elapsed": 808,
     "status": "ok",
     "timestamp": 1603295589309,
     "user": {
      "displayName": "羽田野拓",
      "photoUrl": "",
      "userId": "09740761542960778392"
     },
     "user_tz": -540
    },
    "id": "H0ubdnMu2jVJ",
    "outputId": "4fa56df7-7650-4510-dd62-fecd5a03422f"
   },
   "outputs": [
    {
     "name": "stdout",
     "output_type": "stream",
     "text": [
      "最頻値: 6\n"
     ]
    }
   ],
   "source": [
    "print(\"最頻値:\") #最頻値を求める処理を追加"
   ]
  },
  {
   "cell_type": "markdown",
   "metadata": {
    "id": "LeYVEW3E3hwW"
   },
   "source": [
    "## 最大値、最小値を求める"
   ]
  },
  {
   "cell_type": "code",
   "execution_count": 13,
   "metadata": {
    "colab": {
     "base_uri": "https://localhost:8080/",
     "height": 53
    },
    "executionInfo": {
     "elapsed": 820,
     "status": "ok",
     "timestamp": 1603295693604,
     "user": {
      "displayName": "羽田野拓",
      "photoUrl": "",
      "userId": "09740761542960778392"
     },
     "user_tz": -540
    },
    "id": "igh-waOl3TBu",
    "outputId": "cb8f903f-0a23-4182-d288-3db21eead031"
   },
   "outputs": [
    {
     "name": "stdout",
     "output_type": "stream",
     "text": [
      "最大値: 21\n",
      "最小値: 0\n"
     ]
    }
   ],
   "source": [
    "print(\"最大値:\")　#最大値を求める処理を追加\n",
    "print(\"最小値:\")　#最小値を求める処理を追加"
   ]
  },
  {
   "cell_type": "markdown",
   "metadata": {
    "id": "vrF_uYXs4P2_"
   },
   "source": [
    "## 分散を求める"
   ]
  },
  {
   "cell_type": "code",
   "execution_count": 15,
   "metadata": {
    "colab": {
     "base_uri": "https://localhost:8080/",
     "height": 53
    },
    "executionInfo": {
     "elapsed": 1430,
     "status": "ok",
     "timestamp": 1603296183153,
     "user": {
      "displayName": "羽田野拓",
      "photoUrl": "",
      "userId": "09740761542960778392"
     },
     "user_tz": -540
    },
    "id": "zl4O3rkZ3se7",
    "outputId": "ae60012c-a496-4b41-a26e-891dac1668f6"
   },
   "outputs": [
    {
     "name": "stdout",
     "output_type": "stream",
     "text": [
      "母分散: 26.49\n",
      "標本分散 27.88421052631579\n"
     ]
    }
   ],
   "source": [
    "print(\"母分散:\" , st.pvariance(data)) #母分散を求める処理を追加\n",
    "print(\"標本分散\" , st.variance(data)) #標本分散を求める処理を追加"
   ]
  },
  {
   "cell_type": "markdown",
   "metadata": {
    "id": "hU22w_1n7P8s"
   },
   "source": [
    "## 標準偏差を求める"
   ]
  },
  {
   "cell_type": "code",
   "execution_count": null,
   "metadata": {
    "id": "JvZ7dM1d7O0G"
   },
   "outputs": [],
   "source": [
    "print(\"母標準偏差:\")  #母標準偏差を求める処理を追加\n",
    "print(\"標本標準偏差\")  #標本標準偏差を求める処理を追加"
   ]
  }
 ],
 "metadata": {
  "colab": {
   "authorship_tag": "ABX9TyNarbzTp8KMlUuFHMtdpd7m",
   "collapsed_sections": [],
   "name": "ensyu1.ipynb",
   "provenance": []
  },
  "kernelspec": {
   "display_name": "Python 3",
   "language": "python",
   "name": "python3"
  },
  "language_info": {
   "codemirror_mode": {
    "name": "ipython",
    "version": 3
   },
   "file_extension": ".py",
   "mimetype": "text/x-python",
   "name": "python",
   "nbconvert_exporter": "python",
   "pygments_lexer": "ipython3",
   "version": "3.7.6"
  }
 },
 "nbformat": 4,
 "nbformat_minor": 4
}
