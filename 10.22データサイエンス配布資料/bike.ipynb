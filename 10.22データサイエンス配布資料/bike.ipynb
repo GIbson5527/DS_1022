{
 "cells": [
  {
   "cell_type": "code",
   "execution_count": null,
   "metadata": {
    "id": "GuM9QpXe6UdF"
   },
   "outputs": [],
   "source": [
    "import pandas as pd\n",
    "import seaborn as sns\n",
    "import matplotlib.pyplot as plt"
   ]
  },
  {
   "cell_type": "code",
   "execution_count": null,
   "metadata": {
    "colab": {
     "base_uri": "https://localhost:8080/",
     "height": 35
    },
    "executionInfo": {
     "elapsed": 28964,
     "status": "ok",
     "timestamp": 1603300641861,
     "user": {
      "displayName": "羽田野拓",
      "photoUrl": "",
      "userId": "09740761542960778392"
     },
     "user_tz": -540
    },
    "id": "XDyVLBKR6nci",
    "outputId": "983dea79-e182-4465-d69c-e945582e19ba"
   },
   "outputs": [
    {
     "name": "stdout",
     "output_type": "stream",
     "text": [
      "Mounted at /content/drive\n"
     ]
    }
   ],
   "source": [
    "from google.colab import drive\n",
    "drive.mount('/content/drive')"
   ]
  },
  {
   "cell_type": "code",
   "execution_count": null,
   "metadata": {
    "id": "M_fYVNeX6cng"
   },
   "outputs": [],
   "source": [
    "# サンプルデータ読み込み\n",
    "df = pd.read_csv(filepath_or_buffer=\"/content/drive/My Drive/csv/bike.csv\")\n",
    "#データの確認\n",
    "display(df.head())"
   ]
  },
  {
   "cell_type": "code",
   "execution_count": null,
   "metadata": {
    "id": "5ydh1jK0n_v0"
   },
   "outputs": [],
   "source": [
    "#統計情報\n",
    "display( ) #統計情報の表示を行う。"
   ]
  },
  {
   "cell_type": "code",
   "execution_count": null,
   "metadata": {
    "id": "IQG2gh7i6UdI"
   },
   "outputs": [],
   "source": [
    "# 年、月、日、曜日、時間の列を追加\n",
    "df['datetimeobj'] = pd.to_datetime(df['datetime'])\n",
    "df['year'] = df['datetimeobj'].dt.year\n",
    "df['month'] = df['datetimeobj'].dt.month\n",
    "df['day'] = df['datetimeobj'].dt.day\n",
    "df['dayofweek'] = df['datetimeobj'].dt.dayofweek # 曜日：月曜日が0、日曜日が6\n",
    "df['hour'] = df['datetimeobj'].dt.hour\n",
    "display(df.head())"
   ]
  },
  {
   "cell_type": "code",
   "execution_count": null,
   "metadata": {
    "id": "TL6P__Bq6UdL"
   },
   "outputs": [],
   "source": [
    "# 貸し出し数の推移\n",
    "df.plot(　　)"
   ]
  },
  {
   "cell_type": "code",
   "execution_count": null,
   "metadata": {
    "id": "s-2fGEBy6UdP"
   },
   "outputs": [],
   "source": [
    "# 月ごとの貸し出し数（合計）\n",
    "df.groupby(　　)[　　].sum().plot(kind='bar')"
   ]
  },
  {
   "cell_type": "code",
   "execution_count": null,
   "metadata": {
    "id": "Cz_GGEyO6UdS"
   },
   "outputs": [],
   "source": [
    "# 月ごとの貸し出し数（平均）\n",
    "df.groupby(　　)[　　].mean().plot(kind='bar')"
   ]
  },
  {
   "cell_type": "code",
   "execution_count": null,
   "metadata": {
    "id": "CEMxjhUO6UdW"
   },
   "outputs": [],
   "source": [
    "# 季節ごとの貸し出し数（合計）\n",
    "plt.figure(figsize=(14,4))\n",
    "plt.subplot(1,2,1)\n",
    "df.groupby(　　)[　　].sum().plot(kind='bar')\n",
    "# 季節ごとの貸し出し数（平均）\n",
    "plt.subplot(1,2,2)\n",
    "df.groupby(　　)[　　].mean().plot(kind='bar')"
   ]
  },
  {
   "cell_type": "code",
   "execution_count": null,
   "metadata": {
    "id": "3b1PmU6e6UdY"
   },
   "outputs": [],
   "source": [
    "# 日ごとの貸し出し数（合計）\n",
    "plt.figure(figsize=(14,4))\n",
    "plt.subplot(1,2,1)\n",
    "df.groupby(　　)[　　].sum().plot(kind='bar')\n",
    "# 日ごとの貸し出し数（平均）\n",
    "plt.subplot(1,2,2)\n",
    "df.groupby(　　)[　　].mean().plot(kind='bar')"
   ]
  },
  {
   "cell_type": "code",
   "execution_count": null,
   "metadata": {
    "id": "sMUdaO436Uda"
   },
   "outputs": [],
   "source": [
    "# 曜日ごとの貸し出し数（合計）\n",
    "plt.figure(figsize=(14,4))\n",
    "plt.subplot(1,2,1)\n",
    "df.groupby(　　)[　　].sum().plot(kind='bar')\n",
    "# 曜日ごとの貸し出し数（平均）\n",
    "plt.subplot(1,2,2)\n",
    "df.groupby(　　)[　　].mean().plot(kind='bar')"
   ]
  },
  {
   "cell_type": "code",
   "execution_count": null,
   "metadata": {
    "colab": {
     "base_uri": "https://localhost:8080/",
     "height": 269
    },
    "executionInfo": {
     "elapsed": 1403,
     "status": "ok",
     "timestamp": 1603300772912,
     "user": {
      "displayName": "羽田野拓",
      "photoUrl": "",
      "userId": "09740761542960778392"
     },
     "user_tz": -540
    },
    "id": "PN804Uiu6Ude",
    "outputId": "f101fdbd-64d6-4423-f9a5-c98faddb4e5f"
   },
   "outputs": [],
   "source": [
    "# 時間ごとの貸し出し数（合計）\n",
    "plt.figure(figsize=(14,4))\n",
    "plt.subplot(1,2,1)\n",
    "df.groupby(　　)[　　].sum().plot(kind='bar')\n",
    "# 時間ごとの貸し出し数（平均）\n",
    "plt.subplot(1,2,2)\n",
    "df.groupby(　　)[　　].mean().plot(kind='bar')"
   ]
  },
  {
   "cell_type": "code",
   "execution_count": null,
   "metadata": {
    "id": "hL2tnFWa6Udg"
   },
   "outputs": [],
   "source": [
    "# holidayかどうか時間ごと平均\n",
    "plt.figure()\n",
    "df.query('holiday == 1').groupby(　　)[　　].mean().plot(label='holiday')\n",
    "df.query('holiday == 0').groupby(　　)[　　].mean().plot(label='not holiday')\n",
    "plt.legend(fontsize=12)"
   ]
  },
  {
   "cell_type": "code",
   "execution_count": null,
   "metadata": {
    "id": "wguDvixRXSqy"
   },
   "outputs": [],
   "source": [
    "# workingdayかどうか時間ごと平均\n",
    "plt.figure()\n",
    "df.query('workingday == 1').groupby(　　)[　　].mean().plot(label='workingday')\n",
    "df.query('workingday == 0').groupby(　　)[　　].mean().plot(label='not workingday')\n",
    "plt.legend(fontsize=12)"
   ]
  },
  {
   "cell_type": "code",
   "execution_count": null,
   "metadata": {
    "id": "Tz7RKHMS6Udk"
   },
   "outputs": [],
   "source": [
    "# 季節による変化\n",
    "plt.figure()\n",
    "df.query('season == 1').groupby(　　)[　　].mean().plot(label='Spring')\n",
    "df.query('season == 2').groupby(　　)[　　].mean().plot(label='Summer')\n",
    "df.query('season == 3').groupby(　　)[　　].mean().plot(label='Fall')\n",
    "df.query('season == 4').groupby(　　)[　　].mean().plot(label='Winter')\n",
    "plt.legend(fontsize=12)"
   ]
  },
  {
   "cell_type": "code",
   "execution_count": null,
   "metadata": {
    "id": "94ojir_n6Udm"
   },
   "outputs": [],
   "source": [
    "# 天候ごとの貸し出し数（合計）\n",
    "plt.figure(figsize=(14,4))\n",
    "plt.subplot(1,2,1)\n",
    "df.groupby(　　)[　　].sum().plot(kind='bar')\n",
    "# 天候ごとの貸し出し数（平均）\n",
    "plt.subplot(1,2,2)\n",
    "df.groupby(　　)[　　].mean().plot(kind='bar')"
   ]
  },
  {
   "cell_type": "code",
   "execution_count": null,
   "metadata": {
    "id": "oUWv8vd-6Udo"
   },
   "outputs": [],
   "source": [
    "# 大雨のデータ件数\n",
    "print(len(df.query('weather == 4')))"
   ]
  },
  {
   "cell_type": "code",
   "execution_count": null,
   "metadata": {
    "id": "6G1ImoNr6Udr"
   },
   "outputs": [],
   "source": [
    "# 天気による変化\n",
    "plt.figure()\n",
    "df.query('weather == 1').groupby(  )[  ].mean().plot(label='Clear')\n",
    "df.query('weather == 2').groupby(  )[  ].mean().plot(label='Cloud')\n",
    "df.query('weather == 3').groupby(  )[  ].mean().plot(label='Rain')\n",
    "plt.legend(fontsize=12)"
   ]
  },
  {
   "cell_type": "code",
   "execution_count": null,
   "metadata": {
    "id": "VdrzxHLN6Uds"
   },
   "outputs": [],
   "source": [
    "# 温度、体感温度、湿度、風、貸し出し数\n",
    "plt.figure()\n",
    "sns.pairplot(data=df[[ ]])\n",
    "# 相関係数をヒートマップで表示\n",
    "plt.figure()\n",
    "sns.heatmap(df[[  ]].corr())"
   ]
  },
  {
   "cell_type": "code",
   "execution_count": null,
   "metadata": {
    "id": "iemhsNvGbukk"
   },
   "outputs": [],
   "source": [
    "# 温度と体感温度の関係\n",
    "plt.figure()\n",
    "df.plot(  )"
   ]
  },
  {
   "cell_type": "code",
   "execution_count": null,
   "metadata": {
    "id": "tK_yCWxm6Udu"
   },
   "outputs": [],
   "source": [
    "# 会員、非会員\n",
    "plt.figure(figsize=(14,8))\n",
    "plt.subplot(2,2,1)\n",
    "df.groupby(  )[  ].mean().plot(label='casual')\n",
    "df.groupby(  )[  ].mean().plot(label='registered')\n",
    "plt.legend(fontsize=12)\n",
    "# 会員、非会員\n",
    "plt.subplot(2,2,3)\n",
    "df.groupby(  )[  ].mean().plot(label='casual', kind='bar')\n",
    "plt.legend(fontsize=12)\n",
    "plt.subplot(2,2,4)\n",
    "df.groupby(  )[  ].mean().plot(label='registered', kind='bar')\n",
    "plt.legend(fontsize=12)"
   ]
  },
  {
   "cell_type": "code",
   "execution_count": null,
   "metadata": {
    "id": "HRqxTiFQ6Udw"
   },
   "outputs": [],
   "source": [
    "# 会員、非会員(平日)\n",
    "plt.figure(figsize=(14,8))\n",
    "plt.subplot(2,2,1)\n",
    "df.query('workingday == 0').groupby(  )[  ].mean().plot(label='casual')\n",
    "df.query('workingday == 0').groupby(  )[  ].mean().plot(label='registered')\n",
    "plt.legend(fontsize=12)\n",
    "\n",
    "# 会員、非会員(休日)\n",
    "plt.subplot(2,2,2)\n",
    "df.query('workingday == 1').groupby(  )[  ].mean().plot(label='casual')\n",
    "df.query('workingday == 1').groupby(  )[  ].mean().plot(label='registered')\n",
    "plt.legend(fontsize=12)"
   ]
  },
  {
   "cell_type": "code",
   "execution_count": null,
   "metadata": {
    "id": "7bzlKJxF6Ud1"
   },
   "outputs": [],
   "source": [
    "from sklearn.model_selection import train_test_split\n",
    "from sklearn.ensemble import RandomForestClassifier\n",
    "drop_col = ['datetime', 'datetimeobj','count']\n",
    "df_X = df.drop(drop_col,axis = 1)\n",
    "df_y = df['count']\n",
    "\n",
    "#df_X = df[['registered','casual']]\n",
    "# トレーニングデータとテストデータに分ける\n",
    "(train_X, test_X, train_y, test_y) = train_test_split(\n",
    "    df_X, df_y, test_size=0.3, random_state=0)\n",
    "\n",
    "# ランダムフォレストモデルを生成\n",
    "# n_estimators 決定木をいくつ生成するか（デフォルトは10）\n",
    "clf = RandomForestClassifier(random_state=4, n_estimators=20)\n",
    "clf = clf.fit(train_X, train_y)\n",
    "\n",
    "# 結果検証\n",
    "pred = clf.predict(test_X)\n",
    "df_pred = pd.DataFrame(pred)\n",
    "#誤差の平均を求める\n",
    "test_y_reset = test_y.reset_index().drop('index',axis=1)\n",
    "err_sum = (df_pred[0] - test_y_reset['count']).abs().mean()\n",
    "print(err_sum)"
   ]
  },
  {
   "cell_type": "code",
   "execution_count": null,
   "metadata": {
    "id": "Rt0EFGeBhbs4"
   },
   "outputs": [],
   "source": [
    "#特徴量の重要度を表示\n",
    "clf = clf.fit(train_X, train_y)\n",
    "\n",
    "default_imp=pd.DataFrame(data={'importance':clf.feature_importances_,'features':train_X.columns})\n",
    "default_imp=default_imp.set_index('features')\n",
    "default_imp=default_imp.sort_values('importance',ascending=False)\n",
    "default_imp=default_imp[:30]\n",
    "default_imp.plot(kind='bar',figsize=(15,5))\n",
    "plt.show()"
   ]
  },
  {
   "cell_type": "code",
   "execution_count": null,
   "metadata": {
    "id": "nLX7ioHpjZQI"
   },
   "outputs": [],
   "source": []
  }
 ],
 "metadata": {
  "colab": {
   "collapsed_sections": [],
   "name": "bike.ipynb",
   "provenance": [
    {
     "file_id": "1h7cRjoJWrrFNn-O1RPBza8WWNPj4SI1f",
     "timestamp": 1603300893508
    }
   ]
  },
  "kernelspec": {
   "display_name": "Python 3",
   "language": "python",
   "name": "python3"
  },
  "language_info": {
   "codemirror_mode": {
    "name": "ipython",
    "version": 3
   },
   "file_extension": ".py",
   "mimetype": "text/x-python",
   "name": "python",
   "nbconvert_exporter": "python",
   "pygments_lexer": "ipython3",
   "version": "3.7.6"
  }
 },
 "nbformat": 4,
 "nbformat_minor": 4
}
