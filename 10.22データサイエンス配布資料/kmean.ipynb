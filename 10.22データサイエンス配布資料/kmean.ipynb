{
 "cells": [
  {
   "cell_type": "code",
   "execution_count": null,
   "metadata": {
    "id": "fzWJWQuuT7qm"
   },
   "outputs": [],
   "source": [
    "import pandas as pd\n",
    "import matplotlib.pyplot as plt"
   ]
  },
  {
   "cell_type": "code",
   "execution_count": null,
   "metadata": {
    "colab": {
     "base_uri": "https://localhost:8080/",
     "height": 55
    },
    "executionInfo": {
     "elapsed": 366,
     "status": "ok",
     "timestamp": 1603306606440,
     "user": {
      "displayName": "羽田野拓",
      "photoUrl": "",
      "userId": "09740761542960778392"
     },
     "user_tz": -540
    },
    "id": "S_warEXRTvN4",
    "outputId": "b2627ffa-e177-493d-d14c-2ffd57140058"
   },
   "outputs": [
    {
     "name": "stdout",
     "output_type": "stream",
     "text": [
      "Drive already mounted at /content/drive; to attempt to forcibly remount, call drive.mount(\"/content/drive\", force_remount=True).\n"
     ]
    }
   ],
   "source": [
    "from google.colab import drive \n",
    "drive.mount('/content/drive')"
   ]
  },
  {
   "cell_type": "code",
   "execution_count": null,
   "metadata": {
    "id": "xUSZiO30iQHk"
   },
   "outputs": [],
   "source": [
    "# アヤメのデータを読み込み、dfに格納\n",
    "df = pd.read_csv(filepath_or_buffer=\"/content/drive/My Drive/csv/iris.csv\")\n",
    "#データの確認\n",
    "display()"
   ]
  },
  {
   "cell_type": "code",
   "execution_count": null,
   "metadata": {
    "id": "fWD9jyc_jEV9"
   },
   "outputs": [],
   "source": [
    "# アヤメのデータをtrain_Xにコピー\n",
    "train_X = df\n",
    "# train_Xから、Species列を取り除く\n",
    "train_X = train_X.drop( ,axis = 1)\n",
    "\n",
    "#train_X = train_X.drop('SepalWidth',axis = 1)\n",
    "#train_X = train_X.drop('PetalWidth',axis = 1)\n",
    "\n",
    "# データの確認\n",
    "train_X.head()"
   ]
  },
  {
   "cell_type": "code",
   "execution_count": null,
   "metadata": {
    "id": "Iyg9kxjpSr3Q"
   },
   "outputs": [],
   "source": [
    "# KMean法のライブラリをインポート\n",
    "from sklearn.cluster import KMeans\n",
    "# クラスタリングのモデル作成\n",
    "## n_clusters = クラスタ数\n",
    "kmodel = KMeans(n_clusters= ,random_state = 0)\n",
    "kmodel"
   ]
  },
  {
   "cell_type": "code",
   "execution_count": null,
   "metadata": {
    "id": "AGBwGZjFWgnt"
   },
   "outputs": [],
   "source": [
    "# クラスタリングを実行\n",
    "#　各データに、番号を割り振る\n",
    "kmodel.fit(  )\n",
    "# 割り振った番号をtrain_Yに格納\n",
    "train_Y = kmodel.labels_\n",
    "# 結果を確認\n",
    "print(train_Y)"
   ]
  },
  {
   "cell_type": "code",
   "execution_count": null,
   "metadata": {
    "id": "EeYY2Tu7hY2B"
   },
   "outputs": [],
   "source": [
    "# dfをdf_resultにコピー\n",
    "df_result = df\n",
    "# df_resultに、列「クラスタ番号」を追加し、クラスタリングの結果を格納\n",
    "df_result['クラスタ番号'] = \n",
    "\n",
    "# 結果の確認\n",
    "#pd.set_option('display.max_rows',150)\n",
    "display(df_result)"
   ]
  },
  {
   "cell_type": "code",
   "execution_count": null,
   "metadata": {
    "id": "-172W1w5iBTS"
   },
   "outputs": [],
   "source": [
    "# 散布図で確認\n",
    "plt.scatter(train_X[train_Y == 0]['SepalLength'],\n",
    "            train_X[train_Y == 0]['PetalLength'],\n",
    "            c='green',\n",
    "            label='cluster_0')\n",
    "plt.scatter(train_X[train_Y == 1]['SepalLength'],\n",
    "            train_X[train_Y == 1]['PetalLength'],\n",
    "            c='yellow',\n",
    "            label='cluster_1')\n",
    "plt.scatter(train_X[train_Y == 2]['SepalLength'],\n",
    "            train_X[train_Y == 2]['PetalLength'],\n",
    "            c='red',\n",
    "            label='cluster_2')\n",
    "plt.grid()\n",
    "plt.legend(loc=\"upper left\")\n",
    "plt.show()"
   ]
  }
 ],
 "metadata": {
  "colab": {
   "authorship_tag": "ABX9TyOvMO5PkztYp8Dl48axW3w1",
   "collapsed_sections": [],
   "name": "kmean.ipynb",
   "provenance": [
    {
     "file_id": "1Ocb-ebPQnLNGJPHzu_9kHSgLR7_9FHR7",
     "timestamp": 1603307022474
    }
   ]
  },
  "kernelspec": {
   "display_name": "Python 3",
   "language": "python",
   "name": "python3"
  },
  "language_info": {
   "codemirror_mode": {
    "name": "ipython",
    "version": 3
   },
   "file_extension": ".py",
   "mimetype": "text/x-python",
   "name": "python",
   "nbconvert_exporter": "python",
   "pygments_lexer": "ipython3",
   "version": "3.7.6"
  }
 },
 "nbformat": 4,
 "nbformat_minor": 4
}
